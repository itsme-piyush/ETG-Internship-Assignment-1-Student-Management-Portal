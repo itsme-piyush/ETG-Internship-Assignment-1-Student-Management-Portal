{
  "nbformat": 4,
  "nbformat_minor": 0,
  "metadata": {
    "colab": {
      "name": "StudentMarksPortal.ipynb",
      "provenance": []
    },
    "kernelspec": {
      "name": "python3",
      "display_name": "Python 3"
    },
    "language_info": {
      "name": "python"
    }
  },
  "cells": [
    {
      "cell_type": "code",
      "metadata": {
        "id": "knQH_d0X7bqt"
      },
      "source": [
        "import json"
      ],
      "execution_count": 25,
      "outputs": []
    },
    {
      "cell_type": "code",
      "metadata": {
        "id": "8hv3qvlW7-qo",
        "colab": {
          "base_uri": "https://localhost:8080/"
        },
        "outputId": "404bf616-7018-4172-9763-05b10c7e91d4"
      },
      "source": [
        "student_marks = { 1:{\"Name\":\"Ankit\" , \"Maths marks\":\"80\", \"English marks\":\"70\",\"Hindi marks\":\"80\", \"Science marks\": \"100\"},\n",
        "             2:{\"Name\":\"Anjana\" , \"Maths marks\":\"90\", \"English marks\":\"60\",\"Hindi marks\":\"100\", \"Science marks\": \"60\"},\n",
        "             3:{\"Name\":\"Arpit\" , \"Maths marks\":\"100\", \"English marks\":\"80\",\"Hindi marks\":\"70\", \"Science marks\": \"50\"},\n",
        "             4:{\"Name\":\"Biswayan\" , \"Maths marks\":\"70\", \"English marks\":\"50\",\"Hindi marks\":\"60\", \"Science marks\": \"90\"},\n",
        "             5:{\"Name\":\"Deepak\" , \"Maths marks\":\"60\", \"English marks\":\"70\",\"Hindi marks\":\"80\", \"Science marks\": \"100\"},\n",
        "             6:{\"Name\":\"Esha\" , \"Maths marks\":\"80\", \"English marks\":\"90\",\"Hindi marks\":\"80\", \"Science marks\": \"80\"},\n",
        "             7:{\"Name\":\"Gautam\" , \"Maths marks\":\"80\", \"English marks\":\"70\",\"Hindi marks\":\"10\", \"Science marks\": \"20\"},\n",
        "             8:{\"Name\":\"Hardik\" , \"Maths marks\":\"80\", \"English marks\":\"70\",\"Hindi marks\":\"60\", \"Science marks\": \"100\"},\n",
        "             9:{\"Name\":\"Inala\" , \"Maths marks\":\"100\", \"English marks\":\"70\",\"Hindi marks\":\"80\", \"Science marks\": \"20\"},\n",
        "             10:{\"Name\":\"Kohli\" , \"Maths marks\":\"60\", \"English marks\":\"60\",\"Hindi marks\":\"80\", \"Science marks\": \"50\"},\n",
        "             11:{\"Name\":\"Piyush\" , \"Maths marks\":\"70\", \"English marks\":\"80\",\"Hindi marks\":\"90\", \"Science marks\": \"20\"},\n",
        "             12:{\"Name\":\"Saket\" , \"Maths marks\":\"60\", \"English marks\":\"50\",\"Hindi marks\":\"80\", \"Science marks\": \"10\"},\n",
        "             13:{\"Name\":\"Somil\" , \"Maths marks\":\"40\", \"English marks\":\"60\",\"Hindi marks\":\"100\", \"Science marks\": \"70\"},\n",
        "             14:{\"Name\":\"Saumya\" , \"Maths marks\":\"30\", \"English marks\":\"40\",\"Hindi marks\":\"50\", \"Science marks\": \"90\"},\n",
        "             15:{\"Name\":\"Rohit\" , \"Maths marks\":\"40\", \"English marks\":\"80\",\"Hindi marks\":\"90\", \"Science marks\": \"100\"},\n",
        "             16:{\"Name\":\"Ram\" , \"Maths marks\":\"90\", \"English marks\":\"60\",\"Hindi marks\":\"100\", \"Science marks\": \"70\"},\n",
        "             17:{\"Name\":\"Mayank\" , \"Maths marks\":\"60\", \"English marks\":\"60\",\"Hindi marks\":\"80\", \"Science marks\": \"50\"},\n",
        "             18:{\"Name\":\"Ronaldo\" , \"Maths marks\":\"40\", \"English marks\":\"100\",\"Hindi marks\":\"100\", \"Science marks\": \"70\"},\n",
        "             19:{\"Name\":\"Messi\" , \"Maths marks\":\"30\", \"English marks\":\"70\",\"Hindi marks\":\"50\", \"Science marks\": \"80\"},\n",
        "             20:{\"Name\":\"Neymar\" , \"Maths marks\":\"100\", \"English marks\":\"70\",\"Hindi marks\":\"50\", \"Science marks\": \"100\"} }\n",
        "      \n",
        "n = 20\n",
        "def update_json(dict):\n",
        "  js = json.dumps(dict)\n",
        "\n",
        "  fd = open(\"student_marks.json\",'w')\n",
        "  fd.write(js)\n",
        "  fd.close()\n",
        "\n",
        "update_json(student_marks)\n",
        "\n",
        "while(1):\n",
        "  print(\"\\nHere is the list of operations you can perform with the student marks database:\\n\")\n",
        "  print(\"Enter 1 to view the current databse\\n\")\n",
        "  print(\"Enter 2 to add a new student details to the list\\n\")\n",
        "  print(\"Enter 3 to get cgpa of a particular student\\n\")\n",
        "  print(\"Enter 4 to remove a student from the database\\n\")\n",
        "  print(\"Enter 5 to view total number of students in the database\\n\")\n",
        "  print(\"Enter 6 to exit\\n\")\n",
        "  c = int(input(\"Enter the operation you want to perform: \"))\n",
        "\n",
        "  if(c == 6):\n",
        "    print(\"Thank you! Have a nice day.\")\n",
        "    break\n",
        "  elif(c == 1):\n",
        "    for i in student_marks:\n",
        "      print(i)\n",
        "      print(student_marks[i])\n",
        "      print(\"\\n\")\n",
        "  elif(c == 2):\n",
        "    n = n + 1\n",
        "    print(\"\\nEnter the details of the new student\\n\")\n",
        "    student_marks[n] = {\"Name\": input(\"Enter the name of the student: \")},{\"Maths marks\":input(\"Enter the maths marks of the student: \")}, {\"English marks\": input(\"Enter the English marks of the student: \")}, {\"Hindi marks\":input(\"Enter the Hindi marks of the student: \")}, {\"Science marks\":input(\"Enter the Science marks of the student: \")}\n",
        "    update_json(student_marks)\n",
        "  elif(c == 3):\n",
        "    uid = int(input(\"\\nEnter the roll number id of the student you want to see the cgpa: \"))\n",
        "    for i in student_marks:\n",
        "      if(uid == i):\n",
        "        sum = int(student_marks[i][\"Maths marks\"]) + int(student_marks[i][\"English marks\"]) + int(student_marks[i][\"Hindi marks\"]) + int(student_marks[i][\"Science marks\"])\n",
        "        cgpa = sum/40\n",
        "        print(\"CGPA of \" + student_marks[i][\"Name\"] + \" is:\",cgpa)\n",
        "  elif(c == 4):\n",
        "    did = int(input(\"Enter the roll id of the student whose record you want to delete: \"))\n",
        "    student_marks.pop(did)\n",
        "    n = n - 1\n",
        "  elif(c == 5):\n",
        "    print(\"Total number of students currently in the database: \",n)"
      ],
      "execution_count": 26,
      "outputs": [
        {
          "output_type": "stream",
          "name": "stdout",
          "text": [
            "\n",
            "Here is the list of operations you can perform with the student marks database:\n",
            "\n",
            "Enter 1 to view the current databse\n",
            "\n",
            "Enter 2 to add a new student details to the list\n",
            "\n",
            "Enter 3 to get cgpa of a particular student\n",
            "\n",
            "Enter 4 to remove a student from the database\n",
            "\n",
            "Enter 5 to view total number of students in the database\n",
            "\n",
            "Enter 6 to exit\n",
            "\n",
            "Enter the operation you want to perform: 6\n",
            "Thank you! Have a nice day.\n"
          ]
        }
      ]
    }
  ]
}